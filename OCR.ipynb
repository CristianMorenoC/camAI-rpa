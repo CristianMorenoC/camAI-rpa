{
 "cells": [
  {
   "cell_type": "code",
   "execution_count": 19,
   "metadata": {},
   "outputs": [
    {
     "name": "stderr",
     "output_type": "stream",
     "text": [
      "Using CPU. Note: This module is much faster with a GPU.\n",
      "c:\\ProgramData\\anaconda3\\envs\\camAI-rpa\\lib\\site-packages\\easyocr\\detection.py:78: FutureWarning: You are using `torch.load` with `weights_only=False` (the current default value), which uses the default pickle module implicitly. It is possible to construct malicious pickle data which will execute arbitrary code during unpickling (See https://github.com/pytorch/pytorch/blob/main/SECURITY.md#untrusted-models for more details). In a future release, the default value for `weights_only` will be flipped to `True`. This limits the functions that could be executed during unpickling. Arbitrary objects will no longer be allowed to be loaded via this mode unless they are explicitly allowlisted by the user via `torch.serialization.add_safe_globals`. We recommend you start setting `weights_only=True` for any use case where you don't have full control of the loaded file. Please open an issue on GitHub for any issues related to this experimental feature.\n",
      "  net.load_state_dict(copyStateDict(torch.load(trained_model, map_location=device)))\n",
      "c:\\ProgramData\\anaconda3\\envs\\camAI-rpa\\lib\\site-packages\\easyocr\\recognition.py:169: FutureWarning: You are using `torch.load` with `weights_only=False` (the current default value), which uses the default pickle module implicitly. It is possible to construct malicious pickle data which will execute arbitrary code during unpickling (See https://github.com/pytorch/pytorch/blob/main/SECURITY.md#untrusted-models for more details). In a future release, the default value for `weights_only` will be flipped to `True`. This limits the functions that could be executed during unpickling. Arbitrary objects will no longer be allowed to be loaded via this mode unless they are explicitly allowlisted by the user via `torch.serialization.add_safe_globals`. We recommend you start setting `weights_only=True` for any use case where you don't have full control of the loaded file. Please open an issue on GitHub for any issues related to this experimental feature.\n",
      "  state_dict = torch.load(model_path, map_location=device)\n"
     ]
    },
    {
     "name": "stdout",
     "output_type": "stream",
     "text": [
      "            Usuario                                         Comentario\n",
      "0          westzaza                       JAJAJA ElGamerMasNoob FrarR \n",
      "1   truenalamatraca                           Ese si es presupuesto X \n",
      "2      andreayareni                                  TE AMOOO MUCHOOO \n",
      "3        nicol_3671                                      JAJAJAJAJAJA \n",
      "4        AgusZaZa6n                                     JAKSJKAJAJAJJ \n",
      "5          yams_xpr                                      JASKJASJKSJK \n",
      "6         baphemott  vete alv, fui al bano y tomar agua y Ia sigue ...\n",
      "7          dafnec30                      VALDO LEE LAS CARTAS DE ANDY \n",
      "8    zacrkiel_lyr12                                Como que mas menos \n",
      "9     gomitas_Owoki                                 Que lindo manoooo \n",
      "10         westzaza                                          JAJAJAJA \n",
      "11      valesiiitay                               JAJAJJAJAJAUAUAUUAS \n",
      "12    valencia_bngt                                    Ya saque merch \n",
      "13       nicol_3671                                            JAJAJA \n",
      "14       boronitaas                         para Ia otra seran mil apa\n"
     ]
    }
   ],
   "source": [
    "import easyocr\n",
    "from PIL import ImageGrab\n",
    "import pandas as pd\n",
    "import os\n",
    "import time\n",
    "import re\n",
    "\n",
    "# Inicializar el lector de EasyOCR\n",
    "reader = easyocr.Reader(['en'], gpu=False)  # Puedes agregar 'it' para italiano, si es necesario\n",
    "\n",
    "# Nombre específico para el archivo de pantallazo\n",
    "file_name = \"screenshot_analysis.png\"\n",
    "\n",
    "def remove_existing_screenshot(file_name):\n",
    "    # Verificar si el archivo existe y eliminarlo\n",
    "    if os.path.exists(file_name):\n",
    "        os.remove(file_name)\n",
    "        print(f\"Archivo existente {file_name} eliminado.\")\n",
    "    else:\n",
    "        print(f\"No se encontró el archivo {file_name}, no es necesario eliminarlo.\")\n",
    "\n",
    "def take_screenshot_and_save(file_name):\n",
    "    # Tomar un pantallazo de toda la pantalla\n",
    "    screenshot = ImageGrab.grab()\n",
    "    screenshot.save(file_name)\n",
    "    print(f\"Pantallazo guardado como {file_name}\")\n",
    "\n",
    "def extract_text_from_image(file_name):\n",
    "    # Extraer texto de la imagen usando EasyOCR\n",
    "    result = reader.readtext(file_name, detail=0)\n",
    "    text = \" \".join(result)  # Unir el texto extraído en una sola cadena\n",
    "    return text\n",
    "\n",
    "def analyze_text_in_dataframe(text):\n",
    "    # Dividir el texto en líneas y crear un DataFrame\n",
    "\n",
    "    pattern = r'([A-Za-z0-9_]+):\\s*([^:]+?(?=(?:[A-Za-z0-9_]+:)|$))'\n",
    "    matches = re.findall(pattern, text)\n",
    "    df = pd.DataFrame(matches, columns=['Usuario', 'Comentario'])\n",
    "\n",
    "\n",
    "    #lines = text.splitlines()\n",
    "    #print(lines)\n",
    "    #df = pd.DataFrame(lines, columns=[\"Comentarios\"])\n",
    "    \n",
    "    return df\n",
    "\n",
    "if __name__ == \"__main__\":\n",
    "    # Eliminar el archivo existente si ya existe\n",
    "    #remove_existing_screenshot(file_name)\n",
    "    \n",
    "    # si el archivo no existe toma un pantallazo\n",
    "    if not os.path.exists(file_name):\n",
    "        # Tomar pantallazo\n",
    "        take_screenshot_and_save(file_name)    \n",
    "    \n",
    "    # Esperar un momento para asegurar que el archivo esté guardado\n",
    "    time.sleep(2)\n",
    "    \n",
    "    # Extraer texto de la imagen\n",
    "    text = extract_text_from_image(file_name)\n",
    "    \n",
    "    # Analizar el texto en un DataFrame\n",
    "    df = analyze_text_in_dataframe(text)\n",
    "    \n",
    "    # Mostrar el DataFrame\n",
    "    print(df)\n",
    "    df.to_csv('output.csv', index=False)\n"
   ]
  },
  {
   "cell_type": "code",
   "execution_count": 17,
   "metadata": {},
   "outputs": [
    {
     "name": "stdout",
     "output_type": "stream",
     "text": [
      "True\n"
     ]
    }
   ],
   "source": [
    "print(os.path.exists(file_name))"
   ]
  }
 ],
 "metadata": {
  "kernelspec": {
   "display_name": "myenv",
   "language": "python",
   "name": "python3"
  },
  "language_info": {
   "codemirror_mode": {
    "name": "ipython",
    "version": 3
   },
   "file_extension": ".py",
   "mimetype": "text/x-python",
   "name": "python",
   "nbconvert_exporter": "python",
   "pygments_lexer": "ipython3",
   "version": "3.9.19"
  }
 },
 "nbformat": 4,
 "nbformat_minor": 2
}
